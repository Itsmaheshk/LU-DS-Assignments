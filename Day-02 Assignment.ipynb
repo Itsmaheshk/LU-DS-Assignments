{
 "cells": [
  {
   "cell_type": "markdown",
   "metadata": {},
   "source": [
    "# Submission of Day-02 assignment From \"maheshkamble.official@gmail.com\""
   ]
  },
  {
   "cell_type": "code",
   "execution_count": null,
   "metadata": {},
   "outputs": [],
   "source": [
    "# Q1. Create an empty list. Accept 10 numbers from the user and append to it the list if it is an even number.\n",
    "# Ans=>\n",
    "\n",
    "l=[]\n",
    "for i in range(10):\n",
    "    i=int(input())\n",
    "    if(i%2==0):\n",
    "        l.append(i)\n",
    "print(l)\n",
    "   "
   ]
  },
  {
   "cell_type": "raw",
   "metadata": {},
   "source": [
    "Q2. Create a notebook on LIST COMPREHENSION. \n",
    "Ans=>\n",
    "\n",
    "- List comprehensive method is used to save our time on adding or finding elements in list every time.\n",
    "  i.e. we can simply add condition into square brackets of list to perform any task like finding multiple elements, adding       elements or vector multiplication like things.\n",
    "\n",
    "- we can add more than one conditions too.\n",
    "\n",
    "- eg. even=[x%2==0 for x in range(1,100)] explanation=>\n",
    "\n",
    "- Here, we are written one condition & one for loop in list. Where condition will execute for checking even\n",
    "  number while for loop will iterate loop from 1 to 100.\n",
    "\n"
   ]
  },
  {
   "cell_type": "code",
   "execution_count": 16,
   "metadata": {},
   "outputs": [
    {
     "name": "stdout",
     "output_type": "stream",
     "text": [
      "5\n",
      "{1: 1, 2: 4, 3: 9, 4: 16, 5: 25}\n"
     ]
    }
   ],
   "source": [
    "# Q3. You have seen in the videos how powerful dictionary data structure is.In this assignment, \n",
    "#      given a number n, you have to write a program that generates a dictionary d whichcontains (i, i*i),\n",
    "#      where i is from 1 to n (both included).Then you have to just print this dictionary d.\n",
    "# Ans=>\n",
    "\n",
    "d={}\n",
    "n=int(input())\n",
    "for i in range(1,n+1):\n",
    "    d.update({i:i*i})\n",
    "print(d)\n",
    "    \n"
   ]
  },
  {
   "cell_type": "code",
   "execution_count": null,
   "metadata": {},
   "outputs": [],
   "source": [
    "# Q4. There is a robot which wants to go the charging point to charge itself.\n",
    "#The robot moves in a 2-D plane from the original point (0,0). The robot canmove toward \n",
    "#UP, DOWN, LEFT and RIGHT with given steps.\n",
    "#he trace of robot movement is shown as the following:UP 5DOWN 3LEFT 3RIGHT 2Then, the output of the program should be:2\n",
    "\n",
    "#Ans=>\n",
    "\n",
    "position = {\"x\": 0, \"y\": 0}\n",
    "\n",
    "Number = int(input())\n",
    "for i in range(Number):\n",
    "\n",
    "    inputValue = input()\n",
    "    if not inputValue:\n",
    "        break\n",
    "\n",
    "    \n",
    "    direction, steps = inputValue.split()\n",
    " \n",
    "\n",
    "    if direction == \"UP\":\n",
    "        position[\"y\"] += int(steps)\n",
    "\n",
    "    elif direction == \"DOWN\":\n",
    "        position[\"y\"] -= int(steps)\n",
    "\n",
    "    elif direction == \"LEFT\":\n",
    "        position[\"x\"] -= int(steps)\n",
    "\n",
    "    elif direction == \"RIGHT\":\n",
    "        position[\"x\"] += int(steps)\n",
    "\n",
    "print(int(round((position[\"x\"] ** 2 + position[\"y\"] ** 2) ** 0.5))) \n"
   ]
  },
  {
   "cell_type": "code",
   "execution_count": null,
   "metadata": {},
   "outputs": [],
   "source": []
  }
 ],
 "metadata": {
  "kernelspec": {
   "display_name": "Python 3",
   "language": "python",
   "name": "python3"
  },
  "language_info": {
   "codemirror_mode": {
    "name": "ipython",
    "version": 3
   },
   "file_extension": ".py",
   "mimetype": "text/x-python",
   "name": "python",
   "nbconvert_exporter": "python",
   "pygments_lexer": "ipython3",
   "version": "3.8.3"
  }
 },
 "nbformat": 4,
 "nbformat_minor": 4
}
