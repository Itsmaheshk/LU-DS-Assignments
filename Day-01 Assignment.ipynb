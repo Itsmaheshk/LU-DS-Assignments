{
 "cells": [
  {
   "cell_type": "markdown",
   "metadata": {},
   "source": [
    "# Submission of Day-01 assignment From \"maheshkamble.official@gmail.com\""
   ]
  },
  {
   "cell_type": "markdown",
   "metadata": {},
   "source": [
    "Q.1 Given the following jumbled word, OBANWRI guess the correct English word\n",
    "\n",
    "A.RANIBOW\n",
    "B.RAINBOW\n",
    "C.BOWRANI\n",
    "D.ROBWANI\n",
    "\n",
    "\n",
    "ANS= A. RAINBOW"
   ]
  },
  {
   "cell_type": "code",
   "execution_count": null,
   "metadata": {},
   "outputs": [],
   "source": [
    "# Q.2 Write a program which prints “LETS UPGRADE”. (Please note that you have toprint in ALL CAPS as given)\n",
    "#Answer =\n",
    "\n",
    "print(\"LETS UPGRADE\")"
   ]
  },
  {
   "cell_type": "code",
   "execution_count": 15,
   "metadata": {},
   "outputs": [
    {
     "name": "stdout",
     "output_type": "stream",
     "text": [
      "10\n",
      "20\n",
      "Profit\n"
     ]
    }
   ],
   "source": [
    "#Q.3 Write a program that takes cost price and selling price as input and \n",
    "#    displays whether the transaction is aProfit or a Loss or Neither.\n",
    "# Answer=\n",
    "\n",
    "cost_price= int(input())\n",
    "selling_price= int(input())\n",
    "\n",
    "if selling_price - cost_price >0:\n",
    "    print(\"Profit\")\n",
    "    \n",
    "elif selling_price - cost_price <0:\n",
    "    print(\"Loss\")\n",
    "    \n",
    "else:\n",
    "    print(\"Neither\")\n",
    "    \n",
    "    "
   ]
  },
  {
   "cell_type": "code",
   "execution_count": 17,
   "metadata": {},
   "outputs": [
    {
     "name": "stdout",
     "output_type": "stream",
     "text": [
      "95\n",
      "7600\n"
     ]
    }
   ],
   "source": [
    "# Q.4 Write a program that takes an amount in Euros as input. \n",
    "#     You need to find its equivalent inRupees and display it. Assume 1 Euro equals Rs. 80.\n",
    "# Answer=\n",
    "\n",
    "\n",
    "rupees=int(input())\n",
    "euro= rupees*80\n",
    "print(euro)"
   ]
  },
  {
   "cell_type": "code",
   "execution_count": null,
   "metadata": {},
   "outputs": [],
   "source": []
  }
 ],
 "metadata": {
  "kernelspec": {
   "display_name": "Python 3",
   "language": "python",
   "name": "python3"
  },
  "language_info": {
   "codemirror_mode": {
    "name": "ipython",
    "version": 3
   },
   "file_extension": ".py",
   "mimetype": "text/x-python",
   "name": "python",
   "nbconvert_exporter": "python",
   "pygments_lexer": "ipython3",
   "version": "3.8.3"
  }
 },
 "nbformat": 4,
 "nbformat_minor": 4
}
