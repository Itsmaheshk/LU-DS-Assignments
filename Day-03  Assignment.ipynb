{
 "cells": [
  {
   "cell_type": "markdown",
   "metadata": {},
   "source": [
    "# Submission of Day-03 assignment From \"maheshkamble.official@gmail.com\""
   ]
  },
  {
   "cell_type": "code",
   "execution_count": null,
   "metadata": {},
   "outputs": [],
   "source": [
    "# Q1. Create a numpy array starting from 2 till 50 with a stepsize of 3\n",
    "#Ans=>\n",
    "\n",
    "import numpy as np\n",
    "arr = np.arange(2, 50, 3)\n",
    "print(arr)"
   ]
  },
  {
   "cell_type": "code",
   "execution_count": null,
   "metadata": {},
   "outputs": [],
   "source": [
    "#Q2. Accept two lists of 5 elements each from the user.Convert them to numpy arrays. \n",
    "#    Concatenate these arrays and print it. Also sort these arrays and print it.\n",
    "# Ans=>\n",
    "\n",
    "import numpy as np\n",
    "list1=[]\n",
    "list2=[]\n",
    "x=input(\"Enter 5 elements in list 1separated by space \")\n",
    "list1=x.split()\n",
    "x=input(\"Enter 5 elements in list 2 separated by space \")\n",
    "list2=x.split()\n",
    "\n",
    "#typecasting\n",
    "arr1=np.array(list1)\n",
    "arr2=np.array(list2)\n",
    "\n",
    "#concatenating\n",
    "new_arr=np.sort(np.concatenate((arr1,arr2)))\n",
    "print(new_arr)"
   ]
  },
  {
   "cell_type": "code",
   "execution_count": 26,
   "metadata": {},
   "outputs": [
    {
     "name": "stdout",
     "output_type": "stream",
     "text": [
      "Dimensions of a nd array is : 2\n",
      "Size of an array is : 12\n"
     ]
    }
   ],
   "source": [
    "# Q3. Write a code snippet to find the dimensions of a ndarray and its size.\n",
    "# Ans=>\n",
    "\n",
    "import numpy as np\n",
    "\n",
    "my_array= np.array([[1, 4, 7], [3, 6, 9], [1, 4, 7], [3, 6, 9]])\n",
    "print(\"Dimensions of a nd array is :\", my_array.ndim)\n",
    "\n",
    "print(\"Size of an array is :\", my_array.size)\n",
    "\n"
   ]
  },
  {
   "cell_type": "code",
   "execution_count": 28,
   "metadata": {
    "scrolled": true
   },
   "outputs": [
    {
     "name": "stdout",
     "output_type": "stream",
     "text": [
      "8\n",
      " 1D array (shape) (8,)\n",
      "2D array for row is (1, 8)\n",
      " 2D array for column is (8, 1)\n"
     ]
    }
   ],
   "source": [
    "# Q4.How to convert a 1D array into a 2D array? Demonstrate with the help of a code snippet\n",
    "# Ans=>\n",
    "\n",
    "import numpy as np\n",
    "arr = np.arange(int(input()))\n",
    "print(\" 1D array (shape)\", arr.shape)\n",
    "\n",
    "two_drow = arr[np.newaxis]\n",
    "print(\"2D array for row is\", two_drow.shape)\n",
    "\n",
    "two_dcol = arr[:, np.newaxis]\n",
    "print(\" 2D array for column is\", two_dcol.shape)"
   ]
  },
  {
   "cell_type": "code",
   "execution_count": 30,
   "metadata": {},
   "outputs": [
    {
     "name": "stdout",
     "output_type": "stream",
     "text": [
      "[ 1 16 25 64 81 36  9 25  4 16 25 64 36 81 49 16 25 36]\n",
      "[[ 1 16 25 64 81 36  9 25  4]\n",
      " [16 25 64 36 81 49 16 25 36]]\n"
     ]
    }
   ],
   "source": [
    "# Q5.Consider two square numpy arrays. Stack them vertically and horizontally\n",
    "# Ans=>\n",
    "\n",
    "import numpy as np\n",
    "\n",
    "array1 = np.square([1, 4, 5, 8, 9, 6, 3, 5, 2])  \n",
    "array2 = np.square([4, 5, 8, 6, 9, 7, 4, 5, 6])  \n",
    "\n",
    "\n",
    "print(np.hstack((array1, array2)))\n",
    "\n",
    "print(np.vstack((array1, array2)))"
   ]
  },
  {
   "cell_type": "code",
   "execution_count": 34,
   "metadata": {},
   "outputs": [
    {
     "name": "stdout",
     "output_type": "stream",
     "text": [
      "[[4 3]\n",
      " [5 2]\n",
      " [6 1]\n",
      " [7 1]\n",
      " [8 1]\n",
      " [9 1]]\n"
     ]
    }
   ],
   "source": [
    "# Q6. How to get unique items and counts of unique items?\n",
    "# Ans=>\n",
    "\n",
    "import numpy as np\n",
    "\n",
    "arr1 = np.array([4, 7, 8, 9, 5, 6, 5, 4, 4])\n",
    "unique, counts = np.unique(arr1, return_counts=True)\n",
    "arr1 = np.asarray((unique, counts)).T\n",
    "print(arr1)"
   ]
  }
 ],
 "metadata": {
  "kernelspec": {
   "display_name": "Python 3",
   "language": "python",
   "name": "python3"
  },
  "language_info": {
   "codemirror_mode": {
    "name": "ipython",
    "version": 3
   },
   "file_extension": ".py",
   "mimetype": "text/x-python",
   "name": "python",
   "nbconvert_exporter": "python",
   "pygments_lexer": "ipython3",
   "version": "3.8.3"
  }
 },
 "nbformat": 4,
 "nbformat_minor": 4
}
